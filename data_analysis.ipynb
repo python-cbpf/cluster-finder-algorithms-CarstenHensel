{
 "cells": [
  {
   "cell_type": "markdown",
   "metadata": {},
   "source": [
    "# import data "
   ]
  },
  {
   "cell_type": "code",
   "execution_count": 286,
   "metadata": {},
   "outputs": [],
   "source": [
    "import json\n",
    "import numpy as np\n",
    "\n",
    "\n",
    "dimensions = [10, 20, 30, 40, 50, 60, 70, 80, 90, 100]\n",
    "#dimensions = [10, 20, 30, 40, 50, 60, 70, 80]\n",
    "\n",
    "\n",
    "data = {}\n",
    "\n",
    "for dim in dimensions:\n",
    "\n",
    "    with open('data' + str(dim) + '.json') as json_file:  \n",
    "        data[dim] = json.load(json_file)"
   ]
  },
  {
   "cell_type": "code",
   "execution_count": null,
   "metadata": {},
   "outputs": [],
   "source": []
  },
  {
   "cell_type": "code",
   "execution_count": 287,
   "metadata": {},
   "outputs": [],
   "source": [
    "OrderParameterList = {}\n",
    "\n",
    "\n",
    "for dim in dimensions:\n",
    "    \n",
    "    OrderParameter = np.zeros(dim**2 + 1)\n",
    "    OrderParameter[0]=0\n",
    "    \n",
    "    for occupancy in data[dim]:\n",
    "        count = int(occupancy)\n",
    "        average_size = 0\n",
    "        for size in data[dim][occupancy][1]:\n",
    "            average_size += size\n",
    "        average_size = average_size / len(data[dim][occupancy][1])\n",
    "        OrderParameter[int(occupancy)]=average_size / int(occupancy)\n",
    "        \n",
    "    OrderParameterList[dim] = OrderParameter\n",
    "\n"
   ]
  },
  {
   "cell_type": "code",
   "execution_count": null,
   "metadata": {},
   "outputs": [],
   "source": []
  },
  {
   "cell_type": "code",
   "execution_count": null,
   "metadata": {},
   "outputs": [],
   "source": []
  },
  {
   "cell_type": "code",
   "execution_count": 3,
   "metadata": {},
   "outputs": [],
   "source": [
    "#print(OrderParameter[0])"
   ]
  },
  {
   "cell_type": "code",
   "execution_count": 288,
   "metadata": {},
   "outputs": [],
   "source": [
    "from scipy.stats import binom\n",
    "\n",
    "def BinomialMatrix(N,p):\n",
    "    BM = [binom.pmf(k,N,p) for k in range(N+1)]\n",
    "    return BM\n",
    "\n",
    "def CanonicalOP(p):\n",
    "    COP=np.zeros(10)\n",
    "    index = 0\n",
    "    for dim in dimensions:\n",
    "        N = np.size(OrderParameterList[dim])\n",
    "        COP[index]=sum(OrderParameterList[dim]*BinomialMatrix(N-1,p))\n",
    "        index = index + 1\n",
    "    return COP"
   ]
  },
  {
   "cell_type": "code",
   "execution_count": 108,
   "metadata": {},
   "outputs": [],
   "source": [
    "#print(CanonicalOP(.2))"
   ]
  },
  {
   "cell_type": "code",
   "execution_count": 289,
   "metadata": {},
   "outputs": [
    {
     "data": {
      "image/png": "[encoded data removed]",
      "text/plain": [
       "<matplotlib.figure.Figure at 0x1159b64e0>"
      ]
     },
     "metadata": {},
     "output_type": "display_data"
    }
   ],
   "source": [
    "import matplotlib.pyplot as plt\n",
    "import numpy as np\n",
    "%matplotlib inline\n",
    "\n",
    "P = [0.01*i for i in range(101)]\n",
    "OP = np.array([CanonicalOP(p) for p in P]) \n",
    "\n",
    "for k in range(10):\n",
    "    plt.plot(P, OP[:,k],\"-\", color='C' + str(k), linewidth=1, label=r\"0\")\n",
    "\n",
    "plt.grid(True)\n",
    "\n",
    "\n",
    "plt.xlim(0,1)\n",
    "plt.ylim(-.01,1.1)\n",
    "#plt.legend(bbox_to_anchor=(.5, .49), loc=1,frameon=False)\n",
    "plt.xlabel(r\"$p$\",fontsize=14)\n",
    "plt.ylabel(r\"$P_{\\infty}$\",fontsize=14)\n",
    "\n",
    "plt.show()"
   ]
  },
  {
   "cell_type": "code",
   "execution_count": null,
   "metadata": {},
   "outputs": [],
   "source": []
  },
  {
   "cell_type": "code",
   "execution_count": null,
   "metadata": {},
   "outputs": [],
   "source": []
  },
  {
   "cell_type": "code",
   "execution_count": 290,
   "metadata": {},
   "outputs": [],
   "source": [
    "matrix_dict = {}\n",
    "for dim in dimensions:\n",
    "    matrix_dict[dim] = np.zeros((dim * dim + 1, dim * dim + 1), dtype=float)  \n",
    "    for occ in data[dim]:\n",
    "        occupancy = int(occ)\n",
    "        size_array = np.array(data[dim][occ][0])\n",
    "        pc_array = np.array(data[dim][occ][1])\n",
    "        \n",
    "        #remove percolating clusters from array\n",
    "        for pc in pc_array:\n",
    "            indices = np.where(size_array==pc)\n",
    "            if indices[0].size > 0:\n",
    "                size_array = np.delete(size_array, indices[0][0])\n",
    "        array = size_array\n",
    "        unique, counts = np.unique(array, return_counts=True)        \n",
    "        ensemble_size = len(data[dim][occ][1])\n",
    "        tmp_dict = dict(zip(unique, counts / ensemble_size))\n",
    "        for cluster_size in tmp_dict:\n",
    "            matrix_dict[dim][occupancy][cluster_size] = tmp_dict[cluster_size] \n",
    "            \n",
    "#notice the structure\n",
    "# matrix[k,:] gives the distribution of clusters of sizes 1-100 with total occupation k+1,\n",
    "# here the entry matrix[k,i] is the cluster of size k+1"
   ]
  },
  {
   "cell_type": "code",
   "execution_count": null,
   "metadata": {},
   "outputs": [],
   "source": [
    "    "
   ]
  },
  {
   "cell_type": "code",
   "execution_count": 291,
   "metadata": {},
   "outputs": [
    {
     "name": "stdout",
     "output_type": "stream",
     "text": [
      "calculating data set 10\n",
      "calculating data set 20\n",
      "calculating data set 30\n",
      "calculating data set 40\n",
      "calculating data set 50\n",
      "calculating data set 60\n",
      "calculating data set 70\n",
      "calculating data set 80\n",
      "calculating data set 90\n",
      "calculating data set 100\n"
     ]
    }
   ],
   "source": [
    "MicroSuscept = {}\n",
    "for dim in dimensions:\n",
    "    print(\"calculating data set\", dim)\n",
    "    MicroSuscept[dim] = np.zeros(dim * dim + 1)\n",
    "\n",
    "    vec = np.array([k**2 for k in range(dim * dim + 1)])\n",
    "    for k in range(dim * dim + 1):\n",
    "        MicroSuscept[dim][k] = np.dot(vec, matrix_dict[dim][k][:] / np.max([k,1.0]))\n",
    "\n",
    "    \n",
    "    \n",
    "    #for k in range(dim * dim + 1):\n",
    "    #    for i in range(dim * dim + 1):\n",
    "    #        MicroSuscept[dim][k] += (i)**2 * matrix_dict[dim][k][i] / np.max([k,1.0]) \n",
    "\n"
   ]
  },
  {
   "cell_type": "code",
   "execution_count": null,
   "metadata": {},
   "outputs": [],
   "source": []
  },
  {
   "cell_type": "code",
   "execution_count": 292,
   "metadata": {},
   "outputs": [],
   "source": [
    "from scipy.stats import binom\n",
    "\n",
    "def BinomialMatrix(N,p):\n",
    "    BM = [binom.pmf(k,N,p) for k in range(N+1)]\n",
    "    return BM\n",
    "\n",
    "\n",
    "def CanonicalSuscept(p):\n",
    "    CS=np.zeros(10)\n",
    "    \n",
    "    index = 0\n",
    "    for dim in dimensions:\n",
    "        N = np.size(MicroSuscept[dim])\n",
    "        CS[index] = sum(MicroSuscept[dim] * BinomialMatrix(N-1,p))\n",
    "        index += 1\n",
    "    return CS"
   ]
  },
  {
   "cell_type": "code",
   "execution_count": 293,
   "metadata": {},
   "outputs": [
    {
     "data": {
      "image/png": "[encoded data removed]",
      "text/plain": [
       "<matplotlib.figure.Figure at 0x1e1ecfc18>"
      ]
     },
     "metadata": {},
     "output_type": "display_data"
    }
   ],
   "source": [
    "import matplotlib.pyplot as plt\n",
    "import numpy as np\n",
    "\n",
    "P = [0.01*i for i in range(101)]\n",
    "S = np.array([CanonicalSuscept(p) for p in P]) \n",
    "\n",
    "for k in range(10):\n",
    "    plt.plot(P, S[:,k],\"-\", color='C' + str(k), linewidth=1, label=r\"0\")\n",
    "\n",
    "plt.xlim(0,1)\n",
    "#plt.ylim(0,1.1)\n",
    "\n",
    "\n",
    "plt.grid(True)\n",
    "\n",
    "\n",
    "#plt.legend(bbox_to_anchor=(.5, .49), loc=1,frameon=False)\n",
    "plt.xlabel(r\"$p$\",fontsize=14)\n",
    "plt.ylabel(r\"$\\chi$\",fontsize=14)\n",
    "plt.show()"
   ]
  },
  {
   "cell_type": "markdown",
   "metadata": {},
   "source": [
    "# find maximum of susceptibility"
   ]
  },
  {
   "cell_type": "code",
   "execution_count": 294,
   "metadata": {},
   "outputs": [
    {
     "data": {
      "image/png": "[encoded data removed]",
      "text/plain": [
       "<matplotlib.figure.Figure at 0x119f457f0>"
      ]
     },
     "metadata": {},
     "output_type": "display_data"
    }
   ],
   "source": [
    "import matplotlib.pyplot as plt\n",
    "import numpy as np\n",
    "\n",
    "#P = [0.01*i for i in range(101)]\n",
    "#S = np.array([CanonicalSuscept(p) for p in P]) \n",
    "\n",
    "plt.plot(P, S[:,9],\"-\", color='C' + str(k), linewidth=1, label=r\"0\")\n",
    "\n",
    "plt.xlim(0,1)\n",
    "plt.ylim(985,986)\n",
    "\n",
    "\n",
    "plt.grid(True)\n",
    "\n",
    "\n",
    "#plt.legend(bbox_to_anchor=(.5, .49), loc=1,frameon=False)\n",
    "plt.xlabel(r\"$p$\",fontsize=14)\n",
    "plt.ylabel(r\"$\\chi$\",fontsize=14)\n",
    "plt.show()"
   ]
  },
  {
   "cell_type": "markdown",
   "metadata": {},
   "source": [
    "# susceptibility"
   ]
  },
  {
   "cell_type": "code",
   "execution_count": 295,
   "metadata": {},
   "outputs": [
    {
     "data": {
      "image/png": "[encoded data removed]",
      "text/plain": [
       "<matplotlib.figure.Figure at 0x11a16b550>"
      ]
     },
     "metadata": {},
     "output_type": "display_data"
    }
   ],
   "source": [
    "#Define Max: these are the approximate maximum values of susceptiblities for lengths 10,...,100 \n",
    "MaxSuscept = [17.7,52.8,132.5,210,397.5,459,655,818,856,985.5]\n",
    "\n",
    "\n",
    "#We fit the L-dependence of the maximum value, this defines the ratio of critical exponents \\gamma/\\nu\n",
    "import matplotlib.pyplot as plt\n",
    "import numpy as np\n",
    "\n",
    "L = [10*(i+1) for i in range(10)]\n",
    "\n",
    "#a=-160\n",
    "#b=130\n",
    "\n",
    "b=1.8\n",
    "a=17\n",
    "LinFit = [a*((k+1)**b) for k in range(10)]\n",
    "\n",
    "\n",
    "plt.plot(L, MaxSuscept,\"*\")\n",
    "plt.plot(L, LinFit,\"-\")\n",
    "\n",
    "\n",
    "plt.xscale('log')\n",
    "plt.yscale('log')\n",
    "\n",
    "\n",
    "#plt.xlim(0,1)\n",
    "#plt.ylim(985,986)\n",
    "\n",
    "\n",
    "plt.grid(True)\n",
    "\n",
    "\n",
    "#plt.legend(bbox_to_anchor=(.5, .49), loc=1,frameon=False)\n",
    "#plt.xlabel(r\"$p$\",fontsize=14)\n",
    "#plt.ylabel(r\"$\\chi$\",fontsize=14)\n",
    "plt.show()\n"
   ]
  },
  {
   "cell_type": "code",
   "execution_count": null,
   "metadata": {},
   "outputs": [],
   "source": []
  },
  {
   "cell_type": "code",
   "execution_count": 333,
   "metadata": {},
   "outputs": [
    {
     "data": {
      "image/png": "[encoded data removed]",
      "text/plain": [
       "<matplotlib.figure.Figure at 0x119f56f60>"
      ]
     },
     "metadata": {},
     "output_type": "display_data"
    }
   ],
   "source": [
    "#find p_c by shifting maximum values to 0, then plot as fct of (p-p_c)/p_c*L^{-/\\nu} \n",
    "# fit value for \\nu\n",
    "\n",
    "import matplotlib.pyplot as plt\n",
    "import numpy as np\n",
    "\n",
    "c=.75\n",
    "d=.5\n",
    "\n",
    "P[0] = [(0.01*i-d)/d*(L[0])**c for i in range(101)]\n",
    "P[1] = [(0.01*i-.028-d)/(.028+d)*(L[1])**c for i in range(101)]\n",
    "P[2] = [(0.01*i-.044-d)/(.044+d)*(L[2])**c for i in range(101)]\n",
    "P[3] = [(0.01*i-.05-d)/(.05+d)*(L[3])**c for i in range(101)]\n",
    "P[4] = [(0.01*i-.06-d)/(.06+d)*(L[4])**c for i in range(101)]\n",
    "P[5] = [(0.01*i-.06-d)/(.06+d)*(L[5])**c for i in range(101)]\n",
    "P[6] = [(0.01*i-.065-d)/(.065+d)*(L[6])**c for i in range(101)]\n",
    "P[7] = [(0.01*i-.068-d)/(.068+d)*(L[7])**c for i in range(101)]\n",
    "P[8] = [(0.01*i-.07-d)/(.07+d)*(L[8])**c for i in range(101)]\n",
    "P[9] = [(0.01*i-.07-d)/(.07+d)*(L[9])**c for i in range(101)]\n",
    "\n",
    "\n",
    "\n",
    "\n",
    "#take smallest system size k=0, i.e. L=10 out \n",
    "for k in range(1,10):\n",
    "    plt.plot(P[k], S[:,k]/((10*(k+1))**b),\".\", color='C' + str(k), linewidth=1, label=r\"0\")\n",
    "\n",
    "plt.xlim(-10,10)\n",
    "#plt.ylim(0,1.1)\n",
    "\n",
    "\n",
    "plt.grid(True)\n",
    "\n",
    "\n",
    "#plt.legend(bbox_to_anchor=(.5, .49), loc=1,frameon=False)\n",
    "plt.xlabel(r\"$p$\",fontsize=14)\n",
    "plt.ylabel(r\"$\\chi$\",fontsize=14)\n",
    "plt.show()\n",
    "\n",
    "#result indicates \\gamma/\\nu=1.8 and 1/\\nu=.75, that is \\gamma=2.4 and \\nu=1.33"
   ]
  },
  {
   "cell_type": "markdown",
   "metadata": {},
   "source": [
    "# order parameter"
   ]
  },
  {
   "cell_type": "code",
   "execution_count": 353,
   "metadata": {},
   "outputs": [
    {
     "data": {
      "image/png": "[encoded data removed]",
      "text/plain": [
       "<matplotlib.figure.Figure at 0x11a282240>"
      ]
     },
     "metadata": {},
     "output_type": "display_data"
    }
   ],
   "source": [
    "import matplotlib.pyplot as plt\n",
    "import numpy as np\n",
    "%matplotlib inline\n",
    "\n",
    "#P = [0.01*i for i in range(101)]\n",
    "#OP = np.array([CanonicalOP(p) for p in P]) \n",
    "\n",
    "\n",
    "P[0] = [(0.01*i-d)/d*(L[0])**c for i in range(101)]\n",
    "P[1] = [(0.01*i-.028-d)/(.028+d)*(L[1])**c for i in range(101)]\n",
    "P[2] = [(0.01*i-.044-d)/(.044+d)*(L[2])**c for i in range(101)]\n",
    "P[3] = [(0.01*i-.05-d)/(.05+d)*(L[3])**c for i in range(101)]\n",
    "P[4] = [(0.01*i-.06-d)/(.06+d)*(L[4])**c for i in range(101)]\n",
    "P[5] = [(0.01*i-.06-d)/(.06+d)*(L[5])**c for i in range(101)]\n",
    "P[6] = [(0.01*i-.065-d)/(.065+d)*(L[6])**c for i in range(101)]\n",
    "P[7] = [(0.01*i-.068-d)/(.068+d)*(L[7])**c for i in range(101)]\n",
    "P[8] = [(0.01*i-.07-d)/(.07+d)*(L[8])**c for i in range(101)]\n",
    "P[9] = [(0.01*i-.07-d)/(.07+d)*(L[9])**c for i in range(101)]\n",
    "\n",
    "\n",
    "#f=-\\beta/\\nu, i.e. this gives \\beta=0.12\n",
    "f=-0.09\n",
    "\n",
    "#take smallest system size k=0, i.e. L=10 out \n",
    "for k in range(2,10):\n",
    "    plt.plot(P[k], OP[:,k]/((10*(k+1))**f),\".\", color='C' + str(k), linewidth=1, label=r\"0\")\n",
    "\n",
    "plt.xlim(-10,10)\n",
    "#plt.ylim(0,1.1)\n",
    "\n",
    "\n",
    "plt.grid(True)\n",
    "\n",
    "plt.show()"
   ]
  },
  {
   "cell_type": "code",
   "execution_count": 354,
   "metadata": {},
   "outputs": [
    {
     "data": {
      "text/plain": [
       "0.1197"
      ]
     },
     "execution_count": 354,
     "metadata": {},
     "output_type": "execute_result"
    }
   ],
   "source": [
    ".09*1.33"
   ]
  },
  {
   "cell_type": "code",
   "execution_count": 349,
   "metadata": {},
   "outputs": [
    {
     "data": {
      "text/plain": [
       "0.09615384615384615"
      ]
     },
     "execution_count": 349,
     "metadata": {},
     "output_type": "execute_result"
    }
   ],
   "source": [
    "0.125/1.3"
   ]
  },
  {
   "cell_type": "code",
   "execution_count": null,
   "metadata": {},
   "outputs": [],
   "source": []
  }
 ],
 "metadata": {
  "kernelspec": {
   "display_name": "Python 3",
   "language": "python",
   "name": "python3"
  },
  "language_info": {
   "codemirror_mode": {
    "name": "ipython",
    "version": 3
   },
   "file_extension": ".py",
   "mimetype": "text/x-python",
   "name": "python",
   "nbconvert_exporter": "python",
   "pygments_lexer": "ipython3",
   "version": "3.6.0"
  }
 },
 "nbformat": 4,
 "nbformat_minor": 2
}
