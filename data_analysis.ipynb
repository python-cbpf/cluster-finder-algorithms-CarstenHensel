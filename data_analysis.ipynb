{
 "cells": [
  {
   "cell_type": "markdown",
   "metadata": {},
   "source": [
    "# import all data (there should be some way how to do this within one loop?)"
   ]
  },
  {
   "cell_type": "code",
   "execution_count": 1,
   "metadata": {},
   "outputs": [],
   "source": [
    "import json\n",
    "import numpy as np\n",
    "\n",
    "\n",
    "dimensions = [10, 20, 30, 40, 50, 60, 70, 80, 90, 100]\n",
    "#dimensions = [10, 20, 30, 40, 50, 60, 70, 80]\n",
    "\n",
    "\n",
    "data = {}\n",
    "\n",
    "for dim in dimensions:\n",
    "\n",
    "    with open('../data' + str(dim) + '.json') as json_file:  \n",
    "        data[dim] = json.load(json_file)"
   ]
  },
  {
   "cell_type": "code",
   "execution_count": null,
   "metadata": {},
   "outputs": [],
   "source": []
  },
  {
   "cell_type": "code",
   "execution_count": 2,
   "metadata": {},
   "outputs": [],
   "source": [
    "OrderParameterList = {}\n",
    "\n",
    "\n",
    "for dim in dimensions:\n",
    "    \n",
    "    OrderParameter = np.zeros(dim**2 + 1)\n",
    "    OrderParameter[0]=0\n",
    "    \n",
    "    for occupancy in data[dim]:\n",
    "        count = int(occupancy)\n",
    "        average_size = 0\n",
    "        for size in data[dim][occupancy][1]:\n",
    "            average_size += size\n",
    "        average_size = average_size / len(data[dim][occupancy][1])\n",
    "        OrderParameter[int(occupancy)]=average_size / int(occupancy)\n",
    "        \n",
    "    OrderParameterList[dim] = OrderParameter\n",
    "\n"
   ]
  },
  {
   "cell_type": "code",
   "execution_count": 6,
   "metadata": {},
   "outputs": [
    {
     "data": {
      "text/plain": [
       "'1.2.1'"
      ]
     },
     "execution_count": 6,
     "metadata": {},
     "output_type": "execute_result"
    }
   ],
   "source": [
    "import scipy\n",
    "scipy.__version__\n"
   ]
  },
  {
   "cell_type": "code",
   "execution_count": null,
   "metadata": {},
   "outputs": [],
   "source": []
  },
  {
   "cell_type": "code",
   "execution_count": 3,
   "metadata": {},
   "outputs": [],
   "source": [
    "#print(OrderParameter[0])"
   ]
  },
  {
   "cell_type": "code",
   "execution_count": 7,
   "metadata": {},
   "outputs": [],
   "source": [
    "#from scipy.stats import binom\n",
    "import scipy\n",
    "def BinomialMatrix(N,p):\n",
    "    BM = [stats.binom.pmf(k,N,p) for k in range(N+1)]\n",
    "    return BM\n",
    "\n",
    "def CanonicalOP(p):\n",
    "    COP=np.zeros(10)\n",
    "    index = 0\n",
    "    for dim in dimensions:\n",
    "        N = np.size(OrderParameterList[dim])\n",
    "        COP[index]=sum(OrderParameterList[dim]*BinomialMatrix(N-1,p))\n",
    "        index = index + 1\n",
    "    return COP"
   ]
  },
  {
   "cell_type": "code",
   "execution_count": 8,
   "metadata": {},
   "outputs": [],
   "source": [
    "#print(CanonicalOP(.2))"
   ]
  },
  {
   "cell_type": "code",
   "execution_count": 9,
   "metadata": {},
   "outputs": [
    {
     "ename": "ModuleNotFoundError",
     "evalue": "No module named 'matplotlib'",
     "output_type": "error",
     "traceback": [
      "\u001b[0;31m---------------------------------------------------------------------------\u001b[0m",
      "\u001b[0;31mModuleNotFoundError\u001b[0m                       Traceback (most recent call last)",
      "\u001b[0;32m<ipython-input-9-51de95cfc651>\u001b[0m in \u001b[0;36m<module>\u001b[0;34m\u001b[0m\n\u001b[0;32m----> 1\u001b[0;31m \u001b[0;32mimport\u001b[0m \u001b[0mmatplotlib\u001b[0m\u001b[0;34m.\u001b[0m\u001b[0mpyplot\u001b[0m \u001b[0;32mas\u001b[0m \u001b[0mplt\u001b[0m\u001b[0;34m\u001b[0m\u001b[0;34m\u001b[0m\u001b[0m\n\u001b[0m\u001b[1;32m      2\u001b[0m \u001b[0;32mimport\u001b[0m \u001b[0mnumpy\u001b[0m \u001b[0;32mas\u001b[0m \u001b[0mnp\u001b[0m\u001b[0;34m\u001b[0m\u001b[0;34m\u001b[0m\u001b[0m\n\u001b[1;32m      3\u001b[0m \u001b[0mget_ipython\u001b[0m\u001b[0;34m(\u001b[0m\u001b[0;34m)\u001b[0m\u001b[0;34m.\u001b[0m\u001b[0mrun_line_magic\u001b[0m\u001b[0;34m(\u001b[0m\u001b[0;34m'matplotlib'\u001b[0m\u001b[0;34m,\u001b[0m \u001b[0;34m'inline'\u001b[0m\u001b[0;34m)\u001b[0m\u001b[0;34m\u001b[0m\u001b[0;34m\u001b[0m\u001b[0m\n\u001b[1;32m      4\u001b[0m \u001b[0;34m\u001b[0m\u001b[0m\n\u001b[1;32m      5\u001b[0m \u001b[0mP\u001b[0m \u001b[0;34m=\u001b[0m \u001b[0;34m[\u001b[0m\u001b[0;36m0.01\u001b[0m\u001b[0;34m*\u001b[0m\u001b[0mi\u001b[0m \u001b[0;32mfor\u001b[0m \u001b[0mi\u001b[0m \u001b[0;32min\u001b[0m \u001b[0mrange\u001b[0m\u001b[0;34m(\u001b[0m\u001b[0;36m101\u001b[0m\u001b[0;34m)\u001b[0m\u001b[0;34m]\u001b[0m\u001b[0;34m\u001b[0m\u001b[0;34m\u001b[0m\u001b[0m\n",
      "\u001b[0;31mModuleNotFoundError\u001b[0m: No module named 'matplotlib'"
     ]
    }
   ],
   "source": [
    "import matplotlib.pyplot as plt\n",
    "import numpy as np\n",
    "%matplotlib inline\n",
    "\n",
    "P = [0.01*i for i in range(101)]\n",
    "OP = np.array([CanonicalOP(p) for p in P]) \n",
    "\n",
    "for k in range(10):\n",
    "    plt.plot(P, OP[:,k],\"-\", color='C' + str(k), linewidth=1, label=r\"0\")\n",
    "\n",
    "plt.grid(True)\n",
    "\n",
    "\n",
    "plt.xlim(0,1)\n",
    "plt.ylim(-.01,1.1)\n",
    "#plt.legend(bbox_to_anchor=(.5, .49), loc=1,frameon=False)\n",
    "plt.xlabel(r\"$p$\",fontsize=14)\n",
    "plt.ylabel(r\"$P_{\\infty}$\",fontsize=14)\n",
    "\n",
    "plt.show()"
   ]
  },
  {
   "cell_type": "code",
   "execution_count": null,
   "metadata": {},
   "outputs": [],
   "source": []
  },
  {
   "cell_type": "code",
   "execution_count": null,
   "metadata": {},
   "outputs": [],
   "source": []
  },
  {
   "cell_type": "code",
   "execution_count": 40,
   "metadata": {},
   "outputs": [],
   "source": [
    "matrix_dict = {}\n",
    "for dim in dimensions:\n",
    "    matrix_dict[dim] = np.zeros((dim * dim + 1, dim * dim + 1), dtype=float)  \n",
    "    for occ in data[dim]:\n",
    "        occupancy = int(occ)\n",
    "        size_array = np.array(data[dim][occ][0])\n",
    "        pc_array = np.array(data[dim][occ][1])\n",
    "        \n",
    "        #remove percolating clusters from array\n",
    "        for pc in pc_array:\n",
    "            indices = np.where(size_array==pc)\n",
    "            if indices[0].size > 0:\n",
    "                size_array = np.delete(size_array, indices[0][0])\n",
    "        array = size_array\n",
    "        unique, counts = np.unique(array, return_counts=True)        \n",
    "        ensemble_size = len(data[dim][occ][1])\n",
    "        tmp_dict = dict(zip(unique, counts / ensemble_size))\n",
    "        for cluster_size in tmp_dict:\n",
    "            matrix_dict[dim][occupancy][cluster_size] = tmp_dict[cluster_size] \n",
    "            \n",
    "#notice the structure\n",
    "# matrix[k,:] gives the distribution of clusters of sizes 1-100 with total occupation k+1,\n",
    "# here the entry matrix[k,i] is the cluster of size k+1"
   ]
  },
  {
   "cell_type": "code",
   "execution_count": null,
   "metadata": {},
   "outputs": [],
   "source": [
    "    "
   ]
  },
  {
   "cell_type": "code",
   "execution_count": 41,
   "metadata": {},
   "outputs": [
    {
     "name": "stdout",
     "output_type": "stream",
     "text": [
      "calculating data set 10\n",
      "calculating data set 20\n",
      "calculating data set 30\n",
      "calculating data set 40\n",
      "calculating data set 50\n",
      "calculating data set 60\n",
      "calculating data set 70\n",
      "calculating data set 80\n",
      "calculating data set 90\n",
      "calculating data set 100\n"
     ]
    }
   ],
   "source": [
    "MicroSuscept = {}\n",
    "for dim in dimensions:\n",
    "    print(\"calculating data set\", dim)\n",
    "    MicroSuscept[dim] = np.zeros(dim * dim + 1)\n",
    "\n",
    "    vec = np.array([k**2 for k in range(dim * dim + 1)])\n",
    "    for k in range(dim * dim + 1):\n",
    "        MicroSuscept[dim][k] = np.dot(vec, matrix_dict[dim][k][:] / np.max([k,1.0]))\n",
    "\n",
    "    \n",
    "    \n",
    "    #for k in range(dim * dim + 1):\n",
    "    #    for i in range(dim * dim + 1):\n",
    "    #        MicroSuscept[dim][k] += (i)**2 * matrix_dict[dim][k][i] / np.max([k,1.0]) \n",
    "\n"
   ]
  },
  {
   "cell_type": "code",
   "execution_count": null,
   "metadata": {},
   "outputs": [],
   "source": []
  },
  {
   "cell_type": "code",
   "execution_count": 42,
   "metadata": {},
   "outputs": [],
   "source": [
    "from scipy.stats import binom\n",
    "\n",
    "def BinomialMatrix(N,p):\n",
    "    BM = [binom.pmf(k,N,p) for k in range(N+1)]\n",
    "    return BM\n",
    "\n",
    "\n",
    "def CanonicalSuscept(p):\n",
    "    CS=np.zeros(10)\n",
    "    \n",
    "    index = 0\n",
    "    for dim in dimensions:\n",
    "        N = np.size(MicroSuscept[dim])\n",
    "        CS[index] = sum(MicroSuscept[dim] * BinomialMatrix(N-1,p))\n",
    "        index += 1\n",
    "    return CS"
   ]
  },
  {
   "cell_type": "code",
   "execution_count": 43,
   "metadata": {},
   "outputs": [
    {
     "data": {
      "image/png": "[encoded data removed]",
      "text/plain": [
       "<matplotlib.figure.Figure at 0x1231b61d0>"
      ]
     },
     "metadata": {},
     "output_type": "display_data"
    }
   ],
   "source": [
    "import matplotlib.pyplot as plt\n",
    "import numpy as np\n",
    "\n",
    "P = [0.01*i for i in range(101)]\n",
    "S = np.array([CanonicalSuscept(p) for p in P]) \n",
    "\n",
    "for k in range(10):\n",
    "    plt.plot(P, S[:,k],\"-\", color='C' + str(k), linewidth=1, label=r\"0\")\n",
    "\n",
    "plt.xlim(0,1)\n",
    "#plt.ylim(0,1.1)\n",
    "\n",
    "\n",
    "plt.grid(True)\n",
    "\n",
    "\n",
    "#plt.legend(bbox_to_anchor=(.5, .49), loc=1,frameon=False)\n",
    "plt.xlabel(r\"$p$\",fontsize=14)\n",
    "plt.ylabel(r\"$\\chi$\",fontsize=14)\n",
    "plt.show()"
   ]
  },
  {
   "cell_type": "code",
   "execution_count": null,
   "metadata": {},
   "outputs": [],
   "source": []
  },
  {
   "cell_type": "code",
   "execution_count": null,
   "metadata": {},
   "outputs": [],
   "source": []
  },
  {
   "cell_type": "code",
   "execution_count": null,
   "metadata": {},
   "outputs": [],
   "source": []
  },
  {
   "cell_type": "code",
   "execution_count": null,
   "metadata": {},
   "outputs": [],
   "source": []
  },
  {
   "cell_type": "code",
   "execution_count": null,
   "metadata": {},
   "outputs": [],
   "source": []
  },
  {
   "cell_type": "code",
   "execution_count": null,
   "metadata": {},
   "outputs": [],
   "source": []
  }
 ],
 "metadata": {
  "kernelspec": {
   "display_name": "Python 3",
   "language": "python",
   "name": "python3"
  },
  "language_info": {
   "codemirror_mode": {
    "name": "ipython",
    "version": 3
   },
   "file_extension": ".py",
   "mimetype": "text/x-python",
   "name": "python",
   "nbconvert_exporter": "python",
   "pygments_lexer": "ipython3",
   "version": "3.7.3"
  }
 },
 "nbformat": 4,
 "nbformat_minor": 2
}
